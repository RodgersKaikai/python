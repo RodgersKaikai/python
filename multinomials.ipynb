{
  "nbformat": 4,
  "nbformat_minor": 0,
  "metadata": {
    "colab": {
      "provenance": [],
      "toc_visible": true,
      "authorship_tag": "ABX9TyMlATt7mx2qU09xUaf72j2q",
      "include_colab_link": true
    },
    "kernelspec": {
      "name": "python3",
      "display_name": "Python 3"
    },
    "language_info": {
      "name": "python"
    }
  },
  "cells": [
    {
      "cell_type": "markdown",
      "metadata": {
        "id": "view-in-github",
        "colab_type": "text"
      },
      "source": [
        "<a href=\"https://colab.research.google.com/github/RodgersKaikai/python/blob/main/multinomials.ipynb\" target=\"_parent\"><img src=\"https://colab.research.google.com/assets/colab-badge.svg\" alt=\"Open In Colab\"/></a>"
      ]
    },
    {
      "cell_type": "code",
      "execution_count": null,
      "metadata": {
        "id": "PnjG0vbyZbeV"
      },
      "outputs": [],
      "source": [
        "#!/usr/bin/env python\n",
        "# coding: utf-8\n",
        "\n",
        "# In[2]:\n",
        "\n",
        "\n",
        "import pandas as pd\n",
        "import matplotlib.pyplot as plt\n",
        "import seaborn as sns\n",
        "from sklearn.model_selection import train_test_split\n",
        "from sklearn.linear_model import LogisticRegression\n",
        "from sklearn.datasets import load_breast_cancer\n",
        "from sklearn.metrics import classification_report, confusion_matrix\n",
        "\n",
        "# Load the dataset\n",
        "data = load_breast_cancer()\n",
        "X = pd.DataFrame(data.data, columns=data.feature_names)\n",
        "y = data.target\n",
        "\n",
        "# Basic Information\n",
        "print(\"Dataset Shape:\", X.shape)\n",
        "print(\"\\nFirst 5 rows of dataset:\\n\", X.head())\n",
        "print(\"\\nStatistics of the dataset:\\n\", X.describe())\n",
        "\n",
        "# Check for missing values\n",
        "if X.isnull().sum().sum() == 0:\n",
        "    print(\"\\nNo missing values in the dataset.\")\n",
        "else:\n",
        "    print(\"\\nMissing values in dataset:\\n\", X.isnull().sum())\n",
        "\n",
        "# Visualize the distribution of target variable\n",
        "sns.countplot(y)\n",
        "plt.title(\"Distribution of Target Variable\")\n",
        "plt.show()\n",
        "\n",
        "# Visualize distributions of some selected features\n",
        "features_to_plot = ['mean radius', 'mean texture', 'mean perimeter', 'mean area']\n",
        "X[features_to_plot].hist(figsize=(10, 8))\n",
        "plt.suptitle(\"Distributions of Some Features\")\n",
        "plt.show()\n",
        "\n",
        "# Correlation matrix\n",
        "plt.figure(figsize=(10, 8))\n",
        "sns.heatmap(X.corr(), annot=False, cmap='coolwarm')\n",
        "plt.title(\"Correlation Matrix\")\n",
        "plt.show()\n",
        "\n",
        "# Split the dataset into training and testing sets\n",
        "X_train, X_test, y_train, y_test = train_test_split(X, y, test_size=0.3, random_state=42)\n",
        "\n",
        "# Create and train the logistic regression model\n",
        "model = LogisticRegression(max_iter=10000)\n",
        "model.fit(X_train, y_train)\n",
        "\n",
        "# Make predictions and evaluate the model\n",
        "predictions = model.predict(X_test)\n",
        "print(\"\\nConfusion Matrix:\\n\", confusion_matrix(y_test, predictions))\n",
        "print(\"\\nClassification Report:\\n\", classification_report(y_test, predictions))\n",
        "\n",
        "\n",
        "# In[3]:\n",
        "\n",
        "\n",
        "# Display the coefficients\n",
        "coefficients = pd.DataFrame(model.coef_[0], index=X.columns, columns=['Coefficient'])\n",
        "print(\"\\nCoefficients of the predictor variables:\\n\", coefficients)\n",
        "\n",
        "\n",
        "# In[ ]:"
      ]
    }
  ]
}