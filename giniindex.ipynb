{
  "nbformat": 4,
  "nbformat_minor": 0,
  "metadata": {
    "colab": {
      "provenance": [],
      "authorship_tag": "ABX9TyNSYEzkbFtu2VDstz/gAIik",
      "include_colab_link": true
    },
    "kernelspec": {
      "name": "python3",
      "display_name": "Python 3"
    },
    "language_info": {
      "name": "python"
    }
  },
  "cells": [
    {
      "cell_type": "markdown",
      "metadata": {
        "id": "view-in-github",
        "colab_type": "text"
      },
      "source": [
        "<a href=\"https://colab.research.google.com/github/RodgersKaikai/python/blob/main/giniindex.ipynb\" target=\"_parent\"><img src=\"https://colab.research.google.com/assets/colab-badge.svg\" alt=\"Open In Colab\"/></a>"
      ]
    },
    {
      "cell_type": "code",
      "execution_count": 5,
      "metadata": {
        "colab": {
          "base_uri": "https://localhost:8080/"
        },
        "id": "3nfCBZckUaOE",
        "outputId": "c567d71d-1fd2-4ff6-ee85-c3f0dc14e0ac"
      },
      "outputs": [
        {
          "output_type": "stream",
          "name": "stdout",
          "text": [
            "Gini index of the whole dataset: 0.6666666666666667\n",
            "Gini index of the decision tree: 0.4444444444444444\n",
            "Accuracy: 0.6333333333333333\n"
          ]
        }
      ],
      "source": [
        "#gini index calc\n",
        "import pandas as pd\n",
        "import matplotlib.pyplot as plt\n",
        "import numpy as np\n",
        "import seaborn as sns\n",
        "from sklearn.model_selection import train_test_split\n",
        "from sklearn.linear_model import LogisticRegression\n",
        "from sklearn.datasets import load_iris\n",
        "from sklearn.metrics import accuracy_score, classification_report, confusion_matrix\n",
        "from sklearn.tree import DecisionTreeClassifier\n",
        "\n",
        "\n",
        "# Load the Iris dataset\n",
        "data = load_iris()\n",
        "X = data.data\n",
        "y = data.target\n",
        "\n",
        "# Split the dataset into training and testing sets\n",
        "X_train, X_test, y_train, y_test = train_test_split(X, y, test_size=0.2, random_state=42)\n",
        "\n",
        "# Train a decision tree classifier\n",
        "geo = DecisionTreeClassifier(max_depth=1)  # You can adjust the max_depth parameter\n",
        "geo.fit(X_train, y_train)\n",
        "\n",
        "# Gini index of the whole dataset\n",
        "gini_index_whole = 1 - sum((np.sum((y == c)) / y.size) ** 2 for c in np.unique(y))\n",
        "\n",
        "# Gini index of the decision tree\n",
        "gini_index_decision_tree = 1 - sum((np.sum((geo.predict(X) == c)) / y.size) ** 2 for c in np.unique(y))\n",
        "\n",
        "print(\"Gini index of the whole dataset:\", gini_index_whole)\n",
        "print(\"Gini index of the decision tree:\", gini_index_decision_tree)\n",
        "\n",
        "\n",
        "# Calculate the accuracy of the decision tree classifier\n",
        "accuracy = accuracy_score(y_test, y_pred)\n",
        "print('Accuracy:', accuracy)"
      ]
    }
  ]
}